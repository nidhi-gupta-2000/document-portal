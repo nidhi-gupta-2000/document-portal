{
 "cells": [
  {
   "cell_type": "code",
   "execution_count": 1,
   "id": "1a2b3ce5",
   "metadata": {},
   "outputs": [
    {
     "name": "stdout",
     "output_type": "stream",
     "text": [
      "all ok\n"
     ]
    }
   ],
   "source": [
    "print (\"all ok\")"
   ]
  },
  {
   "cell_type": "code",
   "execution_count": 6,
   "id": "855f2d86",
   "metadata": {},
   "outputs": [
    {
     "name": "stdout",
     "output_type": "stream",
     "text": [
      "all ok\n"
     ]
    }
   ],
   "source": [
    "print(\"all ok\")\n",
    "\n",
    "import logging\n",
    "import os\n",
    "from datetime import datetime\n",
    "logs_dir=os.path.join(os.getcwd(),\"logs\")\n",
    "os.makedirs(logs_dir, exist_ok=True)\n",
    "LOG_FILE = f\"{datetime.now().strftime('%m_%d_%Y_%H_%M_%S')}.log\"\n",
    "LOG_FILE\n",
    "'07_26_2025_14_42_30.log'\n",
    "LOG_FILE\n",
    "'07_26_2025_14_42_30.log'\n",
    "#today\n",
    "#with today's date log file will be creted\n",
    "\n",
    "#tomorrow\n",
    "#with tomorrow's date log file will be created\n",
    "LOG_FILE_PATH=os.path.join(logs_dir, LOG_FILE)\n",
    "logging.basicConfig(\n",
    "    filename=LOG_FILE_PATH,\n",
    "    format=\"[ %(asctime)s ] %(levelname)s %(name)s (line:%(lineno)d) - %(message)s\",\n",
    "    level=logging.INFO,\n",
    ")\n",
    "logger=logging.getLogger(\"DocumentPortal\")\n",
    "logger.info(\"This is an info message\")"
   ]
  },
  {
   "cell_type": "code",
   "execution_count": null,
   "id": "45843ad9",
   "metadata": {},
   "outputs": [],
   "source": []
  }
 ],
 "metadata": {
  "kernelspec": {
   "display_name": "Python 3",
   "language": "python",
   "name": "python3"
  },
  "language_info": {
   "codemirror_mode": {
    "name": "ipython",
    "version": 3
   },
   "file_extension": ".py",
   "mimetype": "text/x-python",
   "name": "python",
   "nbconvert_exporter": "python",
   "pygments_lexer": "ipython3",
   "version": "3.10.18"
  }
 },
 "nbformat": 4,
 "nbformat_minor": 5
}
